{
 "cells": [
  {
   "cell_type": "markdown",
   "metadata": {},
   "source": [
    "# Crime and Public Safety "
   ]
  },
  {
   "cell_type": "markdown",
   "metadata": {},
   "source": [
    "This notebook focuses on two datafiles, and one aspect of finding the best naighborhood in Pittsburgh: crime. To analyze crime in the different neighborhoods of Pittsburgh, I looked at two different data sets: one of non traffic citations and one of police arrest data. The arrest data documents the number of arrests that occurred in each of the neighborhoods, and the non traffic citations data set documents the number of citations not related to traffic. Using some basic pandas commands, I rank the neighborhoods based on least crime incidents (for both data sets) to determine which neighborhoods have the least crime. Because crime and safety is an essential factor to a safe and good neighborhood, I figured it would be a good metric. "
   ]
  },
  {
   "cell_type": "code",
   "execution_count": 5,
   "metadata": {},
   "outputs": [],
   "source": [
    "import pandas as pd\n",
    "import numpy as np\n",
    "\n",
    "nonTraffic = pd.read_csv(\"Non-Traffic Citations.csv\", index_col=\"NEIGHBORHOOD\")\n",
    "crimes = pd.read_csv(\"Pittsburgh Police Arrest Data.csv\", index_col= \"INCIDENTNEIGHBORHOOD\")\n",
    "\n",
    "# sorting based on least amount of crime\n",
    "nonTraffic.groupby(\"NEIGHBORHOOD\").count()[\"OFFENSES\"].sort_values()\n",
    "crimes.groupby(\"INCIDENTNEIGHBORHOOD\").count()[\"OFFENSES\"].sort_values()\n",
    "\n",
    "# transferring them to ranked CSVs\n",
    "NT_ranked = pd.DataFrame(columns=['Neighborhood', 'Rank'])\n",
    "i = 0\n",
    "for n, r in nonTraffic.groupby(\"NEIGHBORHOOD\").count()[\"OFFENSES\"].sort_values().iteritems():\n",
    "    NT_ranked.at[i, \"Neighborhood\"] = n\n",
    "    NT_ranked.at[i, \"Rank\"] = i + 1\n",
    "    i += 1\n",
    "    \n",
    "cr_ranked = pd.DataFrame(columns=['Neighborhood', 'Rank'])\n",
    "i = 0\n",
    "for n, r in crimes.groupby(\"INCIDENTNEIGHBORHOOD\").count()[\"OFFENSES\"].sort_values().iteritems():\n",
    "    cr_ranked.at[i, \"Neighborhood\"] = n\n",
    "    cr_ranked.at[i, \"Rank\"] = i + 1\n",
    "    i += 1\n",
    "    \n",
    "cr_ranked.to_csv(\"cr_ranked.csv\", index = False)\n",
    "NT_ranked.to_csv(\"NT_ranked.csv\", index = False)\n"
   ]
  }
 ],
 "metadata": {
  "kernelspec": {
   "display_name": "Python 3",
   "language": "python",
   "name": "python3"
  },
  "language_info": {
   "codemirror_mode": {
    "name": "ipython",
    "version": 3
   },
   "file_extension": ".py",
   "mimetype": "text/x-python",
   "name": "python",
   "nbconvert_exporter": "python",
   "pygments_lexer": "ipython3",
   "version": "3.8.3"
  }
 },
 "nbformat": 4,
 "nbformat_minor": 4
}

{
 "cells": [
  {
   "cell_type": "markdown",
   "metadata": {},
   "source": [
    "# Best Neighborhood in Pittsburgh \n",
    "---\n",
    "# Introduction\n"
   ]
  },
  {
   "cell_type": "markdown",
   "metadata": {},
   "source": [
    "# Public Life\n",
    "Add text later"
   ]
  },
  {
   "cell_type": "markdown",
   "metadata": {},
   "source": [
    "# Family Life\n",
    "Add text later"
   ]
  },
  {
   "cell_type": "markdown",
   "metadata": {},
   "source": [
    "# Crime and Safety\n",
    "Add text later\n"
   ]
  },
  {
   "cell_type": "markdown",
   "metadata": {},
   "source": [
    "# Final Analysis and Code"
   ]
  },
  {
   "cell_type": "code",
   "execution_count": 4,
   "metadata": {},
   "outputs": [
    {
     "name": "stdout",
     "output_type": "stream",
     "text": [
      "           neighborhood rank\n",
      "0      Allegheny Center   34\n",
      "1        Allegheny West   79\n",
      "2             Allentown   68\n",
      "3             Arlington  132\n",
      "4     Arlington Heights  132\n",
      "..                  ...  ...\n",
      "85  Upper Lawrenceville  120\n",
      "86             West End   82\n",
      "87         West Oakland  123\n",
      "88             Westwood   89\n",
      "89              Windgap  101\n",
      "\n",
      "[90 rows x 2 columns]\n"
     ]
    }
   ],
   "source": [
    "# Import libraries\n",
    "import matplotlib.pyplot as plt\n",
    "import numpy as np\n",
    "import pandas as pd\n",
    "\n",
    "# Final df\n",
    "rankings = pd.DataFrame(columns = [\"neighborhood\", \"rank\"])\n",
    "\n",
    "def main():\n",
    "    # Initialize df\n",
    "    gen_df()\n",
    "    \n",
    "    # Add data\n",
    "    update_data(\"facilities_ranked.csv\")\n",
    "    update_data(\"art_ranked.csv\")\n",
    "    \n",
    "    # Print data\n",
    "    print(rankings) # This line is just for debugging\n",
    "\n",
    "# Will fill the rankings df with all 90 neighborhoods in Pittsburgh and set their ranking to 0\n",
    "def gen_df():\n",
    "    i = 0\n",
    "    for n in open('neighborhoods.txt', 'r').read().splitlines():\n",
    "        rankings.at[i, \"neighborhood\"] = n\n",
    "        rankings.at[i, \"rank\"] = 0\n",
    "        i += 1\n",
    "\n",
    "# Will add the data from file_name to the rankings df. If a neighborhood is not in the df to begin with\n",
    "# it will not be added to the final df. \n",
    "def update_data(file_name):\n",
    "    data = pd.read_csv(file_name)\n",
    "    \n",
    "    for i, r in rankings.iterrows():\n",
    "        for i_inner, r_inner in data.iterrows():\n",
    "            if r[\"neighborhood\"] == r_inner[\"neighborhood\"]:\n",
    "                rankings.at[i, \"rank\"] += data.at[i_inner, \"rank\"]\n",
    "                break\n",
    "\n",
    "# Run main\n",
    "main()"
   ]
  },
  {
   "cell_type": "markdown",
   "metadata": {},
   "source": [
    "# Conclusion"
   ]
  }
 ],
 "metadata": {
  "kernelspec": {
   "display_name": "Python 3",
   "language": "python",
   "name": "python3"
  },
  "language_info": {
   "codemirror_mode": {
    "name": "ipython",
    "version": 3
   },
   "file_extension": ".py",
   "mimetype": "text/x-python",
   "name": "python",
   "nbconvert_exporter": "python",
   "pygments_lexer": "ipython3",
   "version": "3.8.3"
  }
 },
 "nbformat": 4,
 "nbformat_minor": 4
}
